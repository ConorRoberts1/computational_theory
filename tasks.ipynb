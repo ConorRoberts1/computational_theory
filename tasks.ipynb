{
 "cells": [
  {
   "attachments": {},
   "cell_type": "markdown",
   "metadata": {},
   "source": [
    "### Task 1 - Binary Representation\n",
    "\n",
    "Rotating bits means shifting them left or right, but instead of losing the bits that fall off the edge, they get added back to the other side. For example, rotating 01010101 to the right by 1 gives 10101010.\n",
    "\n",
    "We’ll use bitwise operations like <<, >>, and | to make this happen. It’s like cutting a piece of the binary number and sticking it on the other end.\n",
    "\n"
   ]
  },
  {
   "cell_type": "code",
   "execution_count": 1,
   "metadata": {},
   "outputs": [],
   "source": [
    "def rotl(x, n=1):\n",
    "    \"\"\"\n",
    "    Rotates the bits of `x` to the left by `n` places.\n",
    "\n",
    "    Args:\n",
    "        x (int): A 32-bit unsigned integer.\n",
    "        n (int): Number of places to rotate (default is 1).\n",
    "\n",
    "    Returns:\n",
    "        int: The result after rotating left.\n",
    "    \"\"\"\n",
    "    n = n % 32  # Make sure `n` isn't bigger than 32\n",
    "    return ((x << n) | (x >> (32 - n))) & 0xFFFFFFFF  # Rotate and keep it 32 bits\n"
   ]
  }
 ],
 "metadata": {
  "kernelspec": {
   "display_name": "Python 3",
   "language": "python",
   "name": "python3"
  },
  "language_info": {
   "codemirror_mode": {
    "name": "ipython",
    "version": 3
   },
   "file_extension": ".py",
   "mimetype": "text/x-python",
   "name": "python",
   "nbconvert_exporter": "python",
   "pygments_lexer": "ipython3",
   "version": "3.10.4"
  },
  "orig_nbformat": 4
 },
 "nbformat": 4,
 "nbformat_minor": 2
}
