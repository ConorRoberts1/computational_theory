{
 "cells": [
  {
   "attachments": {},
   "cell_type": "markdown",
   "metadata": {},
   "source": [
    "### Task 1 - Binary Representation\n",
    "\n",
    "Rotating bits means shifting them left or right, but instead of losing the bits that fall off the edge, they get added back to the other side. For example, rotating 01010101 to the right by 1 gives 10101010.\n",
    "\n",
    "We’ll use bitwise operations like <<, >>, and | to make this happen. It’s like cutting a piece of the binary number and sticking it on the other end.\n",
    "\n"
   ]
  },
  {
   "cell_type": "code",
   "execution_count": 24,
   "metadata": {},
   "outputs": [
    {
     "name": "stdout",
     "output_type": "stream",
     "text": [
      "=== rotl ===\n",
      "Input (binary):  11000000000000000000000000000001\n",
      "Input (uint):    3221225473\n",
      "Output (binary): 00000000000000000000000000000111\n",
      "Output (uint):   7\n"
     ]
    }
   ],
   "source": [
    "def rotl(x, n=1):\n",
    "    \"\"\"\n",
    "    Rotates the bits of `x` to the left by `n` places.\n",
    "\n",
    "    Args:\n",
    "        x (int): A 32-bit unsigned integer.\n",
    "        n (int): Number of places to rotate (default is 1).\n",
    "\n",
    "    Returns:\n",
    "        int: The result after rotating left, as a 32-bit unsigned integer.\n",
    "    \"\"\"\n",
    "    n = n % 32  # Ensure `n` is within 0-31\n",
    "    return ((x << n) | (x >> (32 - n))) & 0xFFFFFFFF  # Rotate and mask to 32 bits\n",
    "\n",
    "\n",
    "# Test rotl\n",
    "x = 0b11000000000000000000000000000001  # Binary for a 32-bit integer\n",
    "n = 2\n",
    "result_rotl = rotl(x, n)\n",
    "\n",
    "# Display input and output as 32-bit binary strings and unsigned integers\n",
    "print(\"=== rotl ===\")\n",
    "print(f\"Input (binary):  {format(x, '032b')}\")\n",
    "print(f\"Input (uint):    {x}\")\n",
    "print(f\"Output (binary): {format(result_rotl, '032b')}\")\n",
    "print(f\"Output (uint):   {result_rotl}\")\n",
    "\n",
    "\n"
   ]
  },
  {
   "cell_type": "code",
   "execution_count": 25,
   "metadata": {},
   "outputs": [
    {
     "name": "stdout",
     "output_type": "stream",
     "text": [
      "=== rotr ===\n",
      "Input (binary):  11000000000000000000000000000001\n",
      "Input (uint):    3221225473\n",
      "Output (binary): 01110000000000000000000000000000\n",
      "Output (uint):   1879048192\n"
     ]
    }
   ],
   "source": [
    "def rotr(x, n=1):\n",
    "    \"\"\"\n",
    "    Rotates the bits of `x` to the right by `n` places.\n",
    "\n",
    "    Args:\n",
    "        x (int): A 32-bit unsigned integer.\n",
    "        n (int): Number of places to rotate (default is 1).\n",
    "\n",
    "    Returns:\n",
    "        int: The result after rotating right, as a 32-bit unsigned integer.\n",
    "    \"\"\"\n",
    "    n = n % 32  # Ensure `n` is within 0-31\n",
    "    return ((x >> n) | (x << (32 - n))) & 0xFFFFFFFF  # Rotate and mask to 32 bits\n",
    "\n",
    "# Test rotr\n",
    "result_rotr = rotr(x, n)\n",
    "print(\"=== rotr ===\")\n",
    "print(f\"Input (binary):  {format(x, '032b')}\")\n",
    "print(f\"Input (uint):    {x}\")\n",
    "print(f\"Output (binary): {format(result_rotr, '032b')}\")\n",
    "print(f\"Output (uint):   {result_rotr}\")"
   ]
  },
  {
   "cell_type": "code",
   "execution_count": 26,
   "metadata": {},
   "outputs": [
    {
     "name": "stdout",
     "output_type": "stream",
     "text": [
      "=== ch ===\n",
      "Input x (binary): 11000000000000000000000000000001\n",
      "Input y (binary): 10101010101010101010101010101010\n",
      "Input z (binary): 01010101010101010101010101010101\n",
      "Output (binary):  10010101010101010101010101010100\n",
      "Output (uint):    2505397588\n"
     ]
    }
   ],
   "source": [
    "\n",
    "def ch(x, y, z):\n",
    "    \"\"\"\n",
    "    Chooses bits from `y` where `x` has bits set to 1 and bits from `z` where `x` has bits set to 0.\n",
    "\n",
    "    Args:\n",
    "        x (int): A 32-bit unsigned integer.\n",
    "        y (int): A 32-bit unsigned integer.\n",
    "        z (int): A 32-bit unsigned integer.\n",
    "\n",
    "    Returns:\n",
    "        int: The result of the choose operation, as a 32-bit unsigned integer.\n",
    "    \"\"\"\n",
    "    return (x & y) | (~x & z)\n",
    "\n",
    "# Test ch\n",
    "x = 0b11000000000000000000000000000001\n",
    "y = 0b10101010101010101010101010101010\n",
    "z = 0b01010101010101010101010101010101\n",
    "result_ch = ch(x, y, z)\n",
    "print(\"=== ch ===\")\n",
    "print(f\"Input x (binary): {format(x, '032b')}\")\n",
    "print(f\"Input y (binary): {format(y, '032b')}\")\n",
    "print(f\"Input z (binary): {format(z, '032b')}\")\n",
    "print(f\"Output (binary):  {format(result_ch, '032b')}\")\n",
    "print(f\"Output (uint):    {result_ch}\")"
   ]
  },
  {
   "cell_type": "code",
   "execution_count": 27,
   "metadata": {},
   "outputs": [
    {
     "name": "stdout",
     "output_type": "stream",
     "text": [
      "=== maj ===\n",
      "Input x (binary): 11000000000000000000000000000001\n",
      "Input y (binary): 10101010101010101010101010101010\n",
      "Input z (binary): 01010101010101010101010101010101\n",
      "Output (binary):  11000000000000000000000000000001\n",
      "Output (uint):    3221225473\n"
     ]
    }
   ],
   "source": [
    "def maj(x, y, z):\n",
    "    \"\"\"\n",
    "    Takes a majority vote of the bits in `x`, `y`, and `z`.\n",
    "\n",
    "    Args:\n",
    "        x (int): A 32-bit unsigned integer.\n",
    "        y (int): A 32-bit unsigned integer.\n",
    "        z (int): A 32-bit unsigned integer.\n",
    "\n",
    "    Returns:\n",
    "        int: The result of the majority operation, as a 32-bit unsigned integer.\n",
    "    \"\"\"\n",
    "    return (x & y) | (x & z) | (y & z)\n",
    "\n",
    "\n",
    "# Test maj\n",
    "x = 0b11000000000000000000000000000001\n",
    "y = 0b10101010101010101010101010101010\n",
    "z = 0b01010101010101010101010101010101\n",
    "result_maj = maj(x, y, z)\n",
    "print(\"=== maj ===\")\n",
    "print(f\"Input x (binary): {format(x, '032b')}\")\n",
    "print(f\"Input y (binary): {format(y, '032b')}\")\n",
    "print(f\"Input z (binary): {format(z, '032b')}\")\n",
    "print(f\"Output (binary):  {format(result_maj, '032b')}\")\n",
    "print(f\"Output (uint):    {result_maj}\")"
   ]
  },
  {
   "cell_type": "code",
   "execution_count": null,
   "metadata": {},
   "outputs": [],
   "source": [
    "def kr_hash(s: str) -> int:\n",
    "    \"\"\"\n",
    "    Computes a hash for a given string using the method from \n",
    "    Kernighan and Ritchie's \"The C Programming Language\".  \n",
    "\n",
    "    Parameters:\n",
    "    s (str) : The input string.\n",
    "\n",
    "    Returns:\n",
    "    int : The computed hash value.\n",
    "    \"\"\"  \n",
    "    hashval = 0\n",
    "    for char in s:\n",
    "        hashval = ord(char) + 31 * hashval  # Compute hash using ASCII values\n",
    "    return hashval % 101  # Return hash value modulo 101"
   ]
  },
  {
   "cell_type": "markdown",
   "metadata": {},
   "source": [
    "### Why Use `31` and `101`?\n",
    "\n",
    "The constants `31` and `101` in the hash function are carefully chosen to ensure efficient and collision-resistant hashing.\n",
    "\n",
    "#### **Why 31?**\n",
    "- **Prime Multiplier**: 31 is a prime number, which helps distribute hash values more evenly. Primes reduce the likelihood of collisions by avoiding common factors with the input data.\n",
    "- **Efficiency**: The multiplication `31 * i` can be optimized on many systems as `(i << 5) - i`, making it computationally efficient.\n",
    "- **Established Practice**: The use of 31 is widely adopted in hash functions, such as in Java’s `String.hashCode()`, due to its balance of performance and collision resistance.\n",
    "\n",
    "#### **Why 101?**\n",
    "- **Prime Modulus**: Using a prime number (101) as the modulus ensures that the hash values are distributed uniformly across the range (0–100). Primes are effective at reducing collisions in hash tables.\n",
    "- **Range Control**: The modulus operation limits the output to a fixed range, making it suitable for use in hash tables or other data structures."
   ]
  },
  {
   "cell_type": "code",
   "execution_count": 13,
   "metadata": {},
   "outputs": [
    {
     "name": "stdout",
     "output_type": "stream",
     "text": [
      "Hash('Mathematics') -> 71\n",
      "Hash('Conor') -> 18\n",
      "Hash('Binary') -> 95\n",
      "Hash('University') -> 97\n",
      "Hash('Project') -> 97\n"
     ]
    }
   ],
   "source": [
    "# Example Usage & Test\n",
    "test_strings = [\"Mathematics\", \"Conor\", \"Binary\", \"University\", \"Project\"]\n",
    "for s in test_strings:\n",
    "    print(f\"Hash('{s}') -> {kr_hash(s)}\")"
   ]
  },
  {
   "cell_type": "code",
   "execution_count": null,
   "metadata": {},
   "outputs": [],
   "source": []
  }
 ],
 "metadata": {
  "kernelspec": {
   "display_name": "base",
   "language": "python",
   "name": "python3"
  },
  "language_info": {
   "codemirror_mode": {
    "name": "ipython",
    "version": 3
   },
   "file_extension": ".py",
   "mimetype": "text/x-python",
   "name": "python",
   "nbconvert_exporter": "python",
   "pygments_lexer": "ipython3",
   "version": "3.11.5"
  },
  "orig_nbformat": 4
 },
 "nbformat": 4,
 "nbformat_minor": 2
}
