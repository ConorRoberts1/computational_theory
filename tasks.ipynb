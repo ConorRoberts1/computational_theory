{
 "cells": [
  {
   "attachments": {},
   "cell_type": "markdown",
   "metadata": {},
   "source": [
    "### Task 1 - Binary Representation\n",
    "\n",
    "Rotating bits means shifting them left or right, but instead of losing the bits that fall off the edge, they get added back to the other side. For example, rotating 01010101 to the right by 1 gives 10101010.\n",
    "\n",
    "We’ll use bitwise operations like <<, >>, and | to make this happen. It’s like cutting a piece of the binary number and sticking it on the other end.\n",
    "\n"
   ]
  },
  {
   "cell_type": "code",
   "execution_count": 35,
   "metadata": {},
   "outputs": [],
   "source": [
    "def rotl(x, n=1):\n",
    "    \"\"\"\n",
    "    Rotates the bits of `x` to the left by `n` places.\n",
    "\n",
    "    Args:\n",
    "        x (int): A 32-bit unsigned integer.\n",
    "        n (int): Number of places to rotate (default is 1).\n",
    "\n",
    "    Returns:\n",
    "        int: The result after rotating left, as a 32-bit unsigned integer.\n",
    "    \"\"\"\n",
    "    n = n % 32  # Ensure `n` is within 0-31\n",
    "    return ((x << n) | (x >> (32 - n))) & 0xFFFFFFFF  # Rotate and mask to 32 bits\n",
    "\n"
   ]
  },
  {
   "cell_type": "code",
   "execution_count": 36,
   "metadata": {},
   "outputs": [],
   "source": [
    "def rotr(x, n=1):\n",
    "    \"\"\"\n",
    "    Rotates the bits of `x` to the right by `n` places.\n",
    "\n",
    "    Args:\n",
    "        x (int): A 32-bit unsigned integer.\n",
    "        n (int): Number of places to rotate (default is 1).\n",
    "\n",
    "    Returns:\n",
    "        int: The result after rotating right, as a 32-bit unsigned integer.\n",
    "    \"\"\"\n",
    "    n = n % 32  # Ensure `n` is within 0-31\n",
    "    return ((x >> n) | (x << (32 - n))) & 0xFFFFFFFF  # Rotate and mask to 32 bits"
   ]
  },
  {
   "cell_type": "code",
   "execution_count": null,
   "metadata": {},
   "outputs": [
    {
     "name": "stdout",
     "output_type": "stream",
     "text": [
      "Input:  11000000000000000000000000000001\n",
      "rotl: 00000000000000000000000000000111\n",
      "\n",
      "Input:  11000000000000000000000000000001\n",
      "rotr: 01110000000000000000000000000000\n"
     ]
    }
   ],
   "source": [
    "# Test rotl\n",
    "x = 0b11000000000000000000000000000001  # Binary for a 32-bit integer\n",
    "n = 2\n",
    "result_rotl = rotl(x, n)\n",
    "\n",
    "# Display input and output as 32-bit binary strings\n",
    "print(f\"Input:  {format(x, '032b')}\")\n",
    "print(f\"Output: {format(result_rotl, '032b')}\\n\")\n",
    "\n",
    "# Test rotr\n",
    "result_rotr = rotr(x, n)\n",
    "print(f\"Rotate Right:\")\n",
    "print(f\"Input:  {format(x, '032b')}\")\n",
    "print(f\"Output: {format(result_rotr, '032b')}\")"
   ]
  }
 ],
 "metadata": {
  "kernelspec": {
   "display_name": "base",
   "language": "python",
   "name": "python3"
  },
  "language_info": {
   "codemirror_mode": {
    "name": "ipython",
    "version": 3
   },
   "file_extension": ".py",
   "mimetype": "text/x-python",
   "name": "python",
   "nbconvert_exporter": "python",
   "pygments_lexer": "ipython3",
   "version": "3.11.5"
  },
  "orig_nbformat": 4
 },
 "nbformat": 4,
 "nbformat_minor": 2
}
