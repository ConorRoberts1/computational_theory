{
 "cells": [
  {
   "attachments": {},
   "cell_type": "markdown",
   "metadata": {},
   "source": [
    "### Task 1 - Binary Representation\n",
    "\n",
    "Rotating bits means shifting them left or right, but instead of losing the bits that fall off the edge, they get added back to the other side. For example, rotating 01010101 to the right by 1 gives 10101010.\n",
    "\n",
    "We’ll use bitwise operations like <<, >>, and | to make this happen. It’s like cutting a piece of the binary number and sticking it on the other end.\n",
    "\n"
   ]
  },
  {
   "cell_type": "code",
   "execution_count": 4,
   "metadata": {},
   "outputs": [
    {
     "name": "stdout",
     "output_type": "stream",
     "text": [
      "=== rotl ===\n",
      "Input (binary):  11000000000000000000000000000001\n",
      "Input (uint):    3221225473\n",
      "Output (binary): 00000000000000000000000000000111\n",
      "Output (uint):   7\n"
     ]
    }
   ],
   "source": [
    "def rotl(x, n=1):\n",
    "    \"\"\"\n",
    "    Rotates the bits of `x` to the left by `n` places.\n",
    "\n",
    "    Args:\n",
    "        x (int): A 32-bit unsigned integer.\n",
    "        n (int): Number of places to rotate (default is 1).\n",
    "\n",
    "    Returns:\n",
    "        int: The result after rotating left, as a 32-bit unsigned integer.\n",
    "    \"\"\"\n",
    "    n = n % 32  # Ensure `n` is within 0-31\n",
    "    return ((x << n) | (x >> (32 - n))) & 0xFFFFFFFF  # Rotate and mask to 32 bits\n",
    "\n",
    "\n",
    "# Test rotl\n",
    "x = 0b11000000000000000000000000000001  # Binary for a 32-bit integer\n",
    "n = 2\n",
    "result_rotl = rotl(x, n)\n",
    "\n",
    "# Display input and output as 32-bit binary strings and unsigned integers\n",
    "print(\"=== rotl ===\")\n",
    "print(f\"Input (binary):  {format(x, '032b')}\")\n",
    "print(f\"Input (uint):    {x}\")\n",
    "print(f\"Output (binary): {format(result_rotl, '032b')}\")\n",
    "print(f\"Output (uint):   {result_rotl}\")\n",
    "\n",
    "\n"
   ]
  },
  {
   "cell_type": "code",
   "execution_count": 5,
   "metadata": {},
   "outputs": [
    {
     "name": "stdout",
     "output_type": "stream",
     "text": [
      "=== rotr ===\n",
      "Input (binary):  11000000000000000000000000000001\n",
      "Input (uint):    3221225473\n",
      "Output (binary): 01110000000000000000000000000000\n",
      "Output (uint):   1879048192\n"
     ]
    }
   ],
   "source": [
    "def rotr(x, n=1):\n",
    "    \"\"\"\n",
    "    Rotates the bits of `x` to the right by `n` places.\n",
    "\n",
    "    Args:\n",
    "        x (int): A 32-bit unsigned integer.\n",
    "        n (int): Number of places to rotate (default is 1).\n",
    "\n",
    "    Returns:\n",
    "        int: The result after rotating right, as a 32-bit unsigned integer.\n",
    "    \"\"\"\n",
    "    n = n % 32  # Ensure `n` is within 0-31\n",
    "    return ((x >> n) | (x << (32 - n))) & 0xFFFFFFFF  # Rotate and mask to 32 bits\n",
    "\n",
    "# Test rotr\n",
    "result_rotr = rotr(x, n)\n",
    "print(\"=== rotr ===\")\n",
    "print(f\"Input (binary):  {format(x, '032b')}\")\n",
    "print(f\"Input (uint):    {x}\")\n",
    "print(f\"Output (binary): {format(result_rotr, '032b')}\")\n",
    "print(f\"Output (uint):   {result_rotr}\")"
   ]
  },
  {
   "cell_type": "code",
   "execution_count": 6,
   "metadata": {},
   "outputs": [
    {
     "name": "stdout",
     "output_type": "stream",
     "text": [
      "=== ch ===\n",
      "Input x (binary): 11000000000000000000000000000001\n",
      "Input y (binary): 10101010101010101010101010101010\n",
      "Input z (binary): 01010101010101010101010101010101\n",
      "Output (binary):  10010101010101010101010101010100\n",
      "Output (uint):    2505397588\n"
     ]
    }
   ],
   "source": [
    "\n",
    "def ch(x, y, z):\n",
    "    \"\"\"\n",
    "    Chooses bits from `y` where `x` has bits set to 1 and bits from `z` where `x` has bits set to 0.\n",
    "\n",
    "    Args:\n",
    "        x (int): A 32-bit unsigned integer.\n",
    "        y (int): A 32-bit unsigned integer.\n",
    "        z (int): A 32-bit unsigned integer.\n",
    "\n",
    "    Returns:\n",
    "        int: The result of the choose operation, as a 32-bit unsigned integer.\n",
    "    \"\"\"\n",
    "    return (x & y) | (~x & z)\n",
    "\n",
    "# Test ch\n",
    "x = 0b11000000000000000000000000000001\n",
    "y = 0b10101010101010101010101010101010\n",
    "z = 0b01010101010101010101010101010101\n",
    "result_ch = ch(x, y, z)\n",
    "print(\"=== ch ===\")\n",
    "print(f\"Input x (binary): {format(x, '032b')}\")\n",
    "print(f\"Input y (binary): {format(y, '032b')}\")\n",
    "print(f\"Input z (binary): {format(z, '032b')}\")\n",
    "print(f\"Output (binary):  {format(result_ch, '032b')}\")\n",
    "print(f\"Output (uint):    {result_ch}\")"
   ]
  },
  {
   "cell_type": "code",
   "execution_count": 7,
   "metadata": {},
   "outputs": [
    {
     "name": "stdout",
     "output_type": "stream",
     "text": [
      "=== maj ===\n",
      "Input x (binary): 11000000000000000000000000000001\n",
      "Input y (binary): 10101010101010101010101010101010\n",
      "Input z (binary): 01010101010101010101010101010101\n",
      "Output (binary):  11000000000000000000000000000001\n",
      "Output (uint):    3221225473\n"
     ]
    }
   ],
   "source": [
    "def maj(x, y, z):\n",
    "    \"\"\"\n",
    "    Takes a majority vote of the bits in `x`, `y`, and `z`.\n",
    "\n",
    "    Args:\n",
    "        x (int): A 32-bit unsigned integer.\n",
    "        y (int): A 32-bit unsigned integer.\n",
    "        z (int): A 32-bit unsigned integer.\n",
    "\n",
    "    Returns:\n",
    "        int: The result of the majority operation, as a 32-bit unsigned integer.\n",
    "    \"\"\"\n",
    "    return (x & y) | (x & z) | (y & z)\n",
    "\n",
    "\n",
    "# Test maj\n",
    "x = 0b11000000000000000000000000000001\n",
    "y = 0b10101010101010101010101010101010\n",
    "z = 0b01010101010101010101010101010101\n",
    "result_maj = maj(x, y, z)\n",
    "print(\"=== maj ===\")\n",
    "print(f\"Input x (binary): {format(x, '032b')}\")\n",
    "print(f\"Input y (binary): {format(y, '032b')}\")\n",
    "print(f\"Input z (binary): {format(z, '032b')}\")\n",
    "print(f\"Output (binary):  {format(result_maj, '032b')}\")\n",
    "print(f\"Output (uint):    {result_maj}\")"
   ]
  },
  {
   "cell_type": "markdown",
   "metadata": {},
   "source": [
    "### Task 2 Hash Functions: "
   ]
  },
  {
   "cell_type": "code",
   "execution_count": null,
   "metadata": {},
   "outputs": [],
   "source": [
    "def kr_hash(s: str) -> int:\n",
    "    \"\"\"\n",
    "    Parameters:\n",
    "    s (str) : The input string.\n",
    "\n",
    "    Returns:\n",
    "    int : The computed hash value.\n",
    "    \"\"\"  \n",
    "    hashval = 0\n",
    "    for char in s:\n",
    "        hashval = ord(char) + 31 * hashval  # Compute hash using ASCII values\n",
    "    return hashval % 101  # Return hash value modulo 101"
   ]
  },
  {
   "cell_type": "markdown",
   "metadata": {},
   "source": [
    "### Why Use `31` and `101`?\n",
    "\n",
    "The constants `31` and `101` in the hash function are carefully chosen to ensure efficient and collision-resistant hashing.\n",
    "\n",
    "#### **Why 31?**\n",
    "- **Prime Multiplier**: 31 is a prime number, which helps distribute hash values more evenly. Primes reduce the likelihood of collisions by avoiding common factors with the input data.\n",
    "- **Efficiency**: The multiplication `31 * i` can be optimized on many systems as `(i << 5) - i`,\n",
    "- **Established Practice**: The use of 31 is widely adopted in hash functions, such as in Java’s `String.hashCode()`, due to its balance of performance and collision resistance.\n",
    "\n",
    "#### **Why 101?**\n",
    "- **Prime Modulus**: Using a prime number (101) ensures that the hash values are distributed evenly across the range (0–100). Primes are effective at reducing collisions in hash tables.\n",
    "- **Range Control**: The modulus operation limits the output to a fixed range, making it suitable for use in hash tables or other data structures."
   ]
  },
  {
   "cell_type": "code",
   "execution_count": 16,
   "metadata": {},
   "outputs": [
    {
     "name": "stdout",
     "output_type": "stream",
     "text": [
      "Hash('Mathematics') -> 71\n",
      "Hash('Conor') -> 18\n",
      "Hash('Binary') -> 95\n",
      "Hash('University') -> 97\n",
      "Hash('Project') -> 97\n"
     ]
    }
   ],
   "source": [
    "# Example Usage & Test\n",
    "test_strings = [\"Mathematics\", \"Conor\", \"Binary\", \"University\", \"Project\"]\n",
    "for s in test_strings:\n",
    "    print(f\"Hash('{s}') -> {kr_hash(s)}\")"
   ]
  },
  {
   "cell_type": "markdown",
   "metadata": {},
   "source": [
    "### Task 3: SHA256 Padding\n",
    "\n",
    "This task implements a function that calculates and prints the **SHA-256 padding** for a file, following the official [FIPS 180-4 SHA specification](https://nvlpubs.nist.gov/nistpubs/FIPS/NIST.FIPS.180-4.pdf).\n",
    "\n",
    "When performing a SHA-256 hash, padding is required to ensure that the message length (in bits) becomes a multiple of 512. This function simulates that padding and outputs it in hexadecimal format.\n",
    "\n",
    "#### **What the Function Does**\n",
    "1. **Reads the File**: Opens the file in binary mode and reads its content.\n",
    "2. **Appends a `1` Bit**: Adds the byte `0x80` to represent a single `1` bit followed by seven `0` bits.\n",
    "3. **Pads with Zeros**: Adds zero bytes (`0x00`) so that the message length is 64 bits (8 bytes) short of a multiple of 512 bits (i.e., `mod 64 == 56`).\n",
    "4. **Appends Message Length**: Adds the original message length in **bits**, represented as a 64-bit **big-endian** unsigned integer.\n",
    "\n",
    "The final padded message length is a multiple of 512 bits, which is the required input block size for the SHA-256 compression function. The output of the function is the padding portion only, printed in hexadecimal format.\n"
   ]
  },
  {
   "cell_type": "code",
   "execution_count": 17,
   "metadata": {},
   "outputs": [
    {
     "name": "stdout",
     "output_type": "stream",
     "text": [
      "Padding (hex):\n",
      "80 00 00 00 00 00 00 00 00 00 00 00 00 00 00 00 00 00 00 00 00 00 00 00 00 00 00 00 00 00 00 00 00 00 00 00 00 00 00 00 00 00 00 00 00 00 00 00 00 00 00 00 00 00 00 00 00 00 00 00 18\n"
     ]
    }
   ],
   "source": [
    "def sha256_padding(filepath: str) -> None:\n",
    "    \"\"\"\n",
    "    Calculates and prints the SHA-256 padding for a file, in hexadecimal format.\n",
    "    \n",
    "    Parameters:\n",
    "    filepath (str): The path to the input file.\n",
    "    \n",
    "    Returns:\n",
    "    None\n",
    "    \"\"\"\n",
    "    with open(filepath, \"rb\") as file:\n",
    "        data = file.read()\n",
    "\n",
    "    original_length_bits = len(data) * 8  # Total length in bits\n",
    "\n",
    "    # Step 1: Append the '1' bit (10000000 in binary -> 0x80 in hex)\n",
    "    padding = b'\\x80'\n",
    "\n",
    "    # Step 2: Append '0' bits (in byte form) to reach 56 bytes mod 64\n",
    "    # Current total length (with padding so far)\n",
    "    new_length = len(data) + len(padding)\n",
    "\n",
    "    # Calculate how many zero bytes to pad\n",
    "    pad_len = (56 - new_length % 64) % 64\n",
    "    padding += b'\\x00' * pad_len\n",
    "\n",
    "    # Step 3: Append the original length in bits as a 64-bit big-endian integer\n",
    "    padding += original_length_bits.to_bytes(8, byteorder='big')\n",
    "\n",
    "    # Print each byte of the padding in hex format\n",
    "    print(\"Padding (hex):\")\n",
    "    print(' '.join(f'{byte:02x}' for byte in padding))\n",
    "\n",
    "\n",
    "# Example Usage\n",
    "# Create a test file containing \"abc\"\n",
    "with open(\"example_abc.txt\", \"wb\") as f:\n",
    "    f.write(b\"abc\")\n",
    "\n",
    "sha256_padding(\"example_abc.txt\")\n"
   ]
  },
  {
   "cell_type": "code",
   "execution_count": 1,
   "metadata": {},
   "outputs": [
    {
     "name": "stdout",
     "output_type": "stream",
     "text": [
      "Trial Division Primes: [2, 3, 5, 7, 11, 13, 17, 19, 23, 29, 31, 37, 41, 43, 47, 53, 59, 61, 67, 71, 73, 79, 83, 89, 97, 101, 103, 107, 109, 113, 127, 131, 137, 139, 149, 151, 157, 163, 167, 173, 179, 181, 191, 193, 197, 199, 211, 223, 227, 229, 233, 239, 241, 251, 257, 263, 269, 271, 277, 281, 283, 293, 307, 311, 313, 317, 331, 337, 347, 349, 353, 359, 367, 373, 379, 383, 389, 397, 401, 409, 419, 421, 431, 433, 439, 443, 449, 457, 461, 463, 467, 479, 487, 491, 499, 503, 509, 521, 523, 541]\n",
      "\n",
      "Divisor Count Primes: [2, 3, 5, 7, 11, 13, 17, 19, 23, 29, 31, 37, 41, 43, 47, 53, 59, 61, 67, 71, 73, 79, 83, 89, 97, 101, 103, 107, 109, 113, 127, 131, 137, 139, 149, 151, 157, 163, 167, 173, 179, 181, 191, 193, 197, 199, 211, 223, 227, 229, 233, 239, 241, 251, 257, 263, 269, 271, 277, 281, 283, 293, 307, 311, 313, 317, 331, 337, 347, 349, 353, 359, 367, 373, 379, 383, 389, 397, 401, 409, 419, 421, 431, 433, 439, 443, 449, 457, 461, 463, 467, 479, 487, 491, 499, 503, 509, 521, 523, 541]\n"
     ]
    }
   ],
   "source": [
    "import math\n",
    "\n",
    "def is_prime_trial(n: int) -> bool:\n",
    "    \"\"\"Check if n is a prime using Trial Division.\"\"\"\n",
    "    if n < 2:\n",
    "        return False\n",
    "    for i in range(2, int(math.isqrt(n)) + 1):\n",
    "        if n % i == 0:\n",
    "            return False\n",
    "    return True\n",
    "\n",
    "def is_prime_by_count(n: int) -> bool:\n",
    "    \"\"\"Check if n is a prime by counting divisors.\"\"\"\n",
    "    if n < 2:\n",
    "        return False\n",
    "    divisors = 0\n",
    "    for i in range(1, n + 1):\n",
    "        if n % i == 0:\n",
    "            divisors += 1\n",
    "    return divisors == 2\n",
    "\n",
    "def get_primes(method, count: int) -> list:\n",
    "    \"\"\"Generate the first `count` prime numbers using the given method.\"\"\"\n",
    "    primes = []\n",
    "    num = 2\n",
    "    while len(primes) < count:\n",
    "        if method(num):\n",
    "            primes.append(num)\n",
    "        num += 1\n",
    "    return primes\n",
    "\n",
    "# Example Usage\n",
    "print(\"Trial Division Primes:\", get_primes(is_prime_trial, 100))\n",
    "print(\"\\nDivisor Count Primes:\", get_primes(is_prime_by_count, 100))\n"
   ]
  }
 ],
 "metadata": {
  "kernelspec": {
   "display_name": "base",
   "language": "python",
   "name": "python3"
  },
  "language_info": {
   "codemirror_mode": {
    "name": "ipython",
    "version": 3
   },
   "file_extension": ".py",
   "mimetype": "text/x-python",
   "name": "python",
   "nbconvert_exporter": "python",
   "pygments_lexer": "ipython3",
   "version": "3.11.5"
  },
  "orig_nbformat": 4
 },
 "nbformat": 4,
 "nbformat_minor": 2
}
