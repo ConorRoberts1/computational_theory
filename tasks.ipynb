{
 "cells": [
  {
   "attachments": {},
   "cell_type": "markdown",
   "metadata": {},
   "source": [
    "### Task 1 - Binary Representation\n",
    "\n",
    "Rotating bits means shifting them left or right, but instead of losing the bits that fall off the edge, they get added back to the other side. For example, rotating 01010101 to the right by 1 gives 10101010.\n",
    "\n",
    "We’ll use bitwise operations like <<, >>, and | to make this happen. It’s like cutting a piece of the binary number and sticking it on the other end.\n",
    "\n"
   ]
  },
  {
   "cell_type": "code",
   "execution_count": 7,
   "metadata": {},
   "outputs": [],
   "source": [
    "def rotl(x, n=1):\n",
    "    \"\"\"\n",
    "    Rotates the bits of `x` to the left by `n` places.\n",
    "\n",
    "    Args:\n",
    "        x (int): A 32-bit unsigned integer.\n",
    "        n (int): Number of places to rotate (default is 1).\n",
    "\n",
    "    Returns:\n",
    "        int: The result after rotating left, as a 32-bit unsigned integer.\n",
    "    \"\"\"\n",
    "    n = n % 32  # Ensure `n` is within 0-31\n",
    "    return ((x << n) | (x >> (32 - n))) & 0xFFFFFFFF  # Rotate and mask to 32 bits\n",
    "\n"
   ]
  },
  {
   "cell_type": "code",
   "execution_count": 8,
   "metadata": {},
   "outputs": [],
   "source": [
    "def rotr(x, n=1):\n",
    "    \"\"\"\n",
    "    Rotates the bits of `x` to the right by `n` places.\n",
    "\n",
    "    Args:\n",
    "        x (int): A 32-bit unsigned integer.\n",
    "        n (int): Number of places to rotate (default is 1).\n",
    "\n",
    "    Returns:\n",
    "        int: The result after rotating right, as a 32-bit unsigned integer.\n",
    "    \"\"\"\n",
    "    n = n % 32  # Ensure `n` is within 0-31\n",
    "    return ((x >> n) | (x << (32 - n))) & 0xFFFFFFFF  # Rotate and mask to 32 bits"
   ]
  },
  {
   "cell_type": "code",
   "execution_count": null,
   "metadata": {},
   "outputs": [],
   "source": [
    "def ch(x, y, z):\n",
    "    \"\"\"\n",
    "    Chooses bits from `y` where `x` has bits set to 1 and bits from `z` where `x` has bits set to 0.\n",
    "\n",
    "    Args:\n",
    "        x (int): A 32-bit unsigned integer.\n",
    "        y (int): A 32-bit unsigned integer.\n",
    "        z (int): A 32-bit unsigned integer.\n",
    "\n",
    "    Returns:\n",
    "        int: The result of the choose operation, as a 32-bit unsigned integer.\n",
    "    \"\"\"\n",
    "    return (x & y) | (~x & z)"
   ]
  },
  {
   "cell_type": "code",
   "execution_count": 9,
   "metadata": {},
   "outputs": [
    {
     "name": "stdout",
     "output_type": "stream",
     "text": [
      "=== rotl ===\n",
      "Input (binary):  11000000000000000000000000000001\n",
      "Input (uint):    3221225473\n",
      "Output (binary): 00000000000000000000000000000111\n",
      "Output (uint):   7\n",
      "=== rotr ===\n",
      "Input (binary):  11000000000000000000000000000001\n",
      "Input (uint):    3221225473\n",
      "Output (binary): 01110000000000000000000000000000\n",
      "Output (uint):   1879048192\n"
     ]
    }
   ],
   "source": [
    "# Test rotl\n",
    "x = 0b11000000000000000000000000000001  # Binary for a 32-bit integer\n",
    "n = 2\n",
    "result_rotl = rotl(x, n)\n",
    "\n",
    "# Display input and output as 32-bit binary strings and unsigned integers\n",
    "print(\"=== rotl ===\")\n",
    "print(f\"Input (binary):  {format(x, '032b')}\")\n",
    "print(f\"Input (uint):    {x}\")\n",
    "print(f\"Output (binary): {format(result_rotl, '032b')}\")\n",
    "print(f\"Output (uint):   {result_rotl}\")\n",
    "\n",
    "\n",
    "# Test rotr\n",
    "result_rotr = rotr(x, n)\n",
    "print(\"=== rotr ===\")\n",
    "print(f\"Input (binary):  {format(x, '032b')}\")\n",
    "print(f\"Input (uint):    {x}\")\n",
    "print(f\"Output (binary): {format(result_rotr, '032b')}\")\n",
    "print(f\"Output (uint):   {result_rotr}\")"
   ]
  }
 ],
 "metadata": {
  "kernelspec": {
   "display_name": "base",
   "language": "python",
   "name": "python3"
  },
  "language_info": {
   "codemirror_mode": {
    "name": "ipython",
    "version": 3
   },
   "file_extension": ".py",
   "mimetype": "text/x-python",
   "name": "python",
   "nbconvert_exporter": "python",
   "pygments_lexer": "ipython3",
   "version": "3.11.5"
  },
  "orig_nbformat": 4
 },
 "nbformat": 4,
 "nbformat_minor": 2
}
